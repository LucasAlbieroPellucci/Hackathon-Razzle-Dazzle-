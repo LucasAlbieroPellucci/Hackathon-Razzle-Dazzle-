{
  "cells": [
    {
      "cell_type": "code",
      "execution_count": 350,
      "metadata": {
        "id": "iYAWWwUwowTU"
      },
      "outputs": [],
      "source": [
        "#importando as bibliotecas necessárias\n",
        "\n",
        "#teste para branch \n",
        "\n",
        "import pandas as pd\n",
        "import numpy as np\n",
        "from sklearn.metrics.pairwise import cosine_similarity"
      ]
    },
    {
      "cell_type": "markdown",
      "metadata": {
        "id": "ZQr7e5ydrJ0_"
      },
      "source": [
        "Importando as bases de dados"
      ]
    },
    {
      "cell_type": "code",
      "execution_count": 351,
      "metadata": {
        "id": "AkOTqIU8pJRP"
      },
      "outputs": [],
      "source": [
        "df_order_itens = pd.read_csv('/content/drive/MyDrive/Colab Notebooks/Day 7/DNC_order_items_dataset.csv').drop(['Unnamed: 0'], axis=1)\n",
        "df_order_reviews = pd.read_csv('/content/drive/MyDrive/Colab Notebooks/Day 7/DNC_order_reviews_dataset.csv').drop(['Unnamed: 0'], axis=1)\n",
        "df_order = pd.read_csv('/content/drive/MyDrive/Colab Notebooks/Day 7/DNC_orders_dataset.csv').drop(['Unnamed: 0'], axis=1)\n",
        "df_products = pd.read_csv('/content/drive/MyDrive/Colab Notebooks/Day 7/DNC_products_dataset.csv').drop(['Unnamed: 0'], axis=1)"
      ]
    },
    {
      "cell_type": "code",
      "execution_count": 352,
      "metadata": {
        "colab": {
          "base_uri": "https://localhost:8080/",
          "height": 203
        },
        "id": "jGQj9Exkpl_s",
        "outputId": "05f7b182-857d-4055-b86e-4df9a8cc97ab"
      },
      "outputs": [
        {
          "data": {
            "text/html": [
              "<div>\n",
              "<style scoped>\n",
              "    .dataframe tbody tr th:only-of-type {\n",
              "        vertical-align: middle;\n",
              "    }\n",
              "\n",
              "    .dataframe tbody tr th {\n",
              "        vertical-align: top;\n",
              "    }\n",
              "\n",
              "    .dataframe thead th {\n",
              "        text-align: right;\n",
              "    }\n",
              "</style>\n",
              "<table border=\"1\" class=\"dataframe\">\n",
              "  <thead>\n",
              "    <tr style=\"text-align: right;\">\n",
              "      <th></th>\n",
              "      <th>order_id</th>\n",
              "      <th>order_item_id</th>\n",
              "      <th>product_id</th>\n",
              "      <th>price</th>\n",
              "    </tr>\n",
              "  </thead>\n",
              "  <tbody>\n",
              "    <tr>\n",
              "      <th>0</th>\n",
              "      <td>00010242fe8c5a6d1ba2dd792cb16214</td>\n",
              "      <td>1</td>\n",
              "      <td>4244733e06e7ecb4970a6e2683c13e61</td>\n",
              "      <td>58.900</td>\n",
              "    </tr>\n",
              "    <tr>\n",
              "      <th>1</th>\n",
              "      <td>00018f77f2f0320c557190d7a144bdd3</td>\n",
              "      <td>1</td>\n",
              "      <td>e5f2d52b802189ee658865ca93d83a8f</td>\n",
              "      <td>239.900</td>\n",
              "    </tr>\n",
              "    <tr>\n",
              "      <th>2</th>\n",
              "      <td>000229ec398224ef6ca0657da4fc703e</td>\n",
              "      <td>1</td>\n",
              "      <td>c777355d18b72b67abbeef9df44fd0fd</td>\n",
              "      <td>199.000</td>\n",
              "    </tr>\n",
              "    <tr>\n",
              "      <th>3</th>\n",
              "      <td>00024acbcdf0a6daa1e931b038114c75</td>\n",
              "      <td>1</td>\n",
              "      <td>7634da152a4610f1595efa32f14722fc</td>\n",
              "      <td>12.990</td>\n",
              "    </tr>\n",
              "    <tr>\n",
              "      <th>4</th>\n",
              "      <td>00042b26cf59d7ce69dfabb4e55b4fd9</td>\n",
              "      <td>1</td>\n",
              "      <td>ac6c3623068f30de03045865e4e10089</td>\n",
              "      <td>199.900</td>\n",
              "    </tr>\n",
              "  </tbody>\n",
              "</table>\n",
              "</div>"
            ],
            "text/plain": [
              "                           order_id  ...   price\n",
              "0  00010242fe8c5a6d1ba2dd792cb16214  ...  58.900\n",
              "1  00018f77f2f0320c557190d7a144bdd3  ... 239.900\n",
              "2  000229ec398224ef6ca0657da4fc703e  ... 199.000\n",
              "3  00024acbcdf0a6daa1e931b038114c75  ...  12.990\n",
              "4  00042b26cf59d7ce69dfabb4e55b4fd9  ... 199.900\n",
              "\n",
              "[5 rows x 4 columns]"
            ]
          },
          "execution_count": 352,
          "metadata": {},
          "output_type": "execute_result"
        }
      ],
      "source": [
        "df_order_itens.head()"
      ]
    },
    {
      "cell_type": "code",
      "execution_count": 353,
      "metadata": {
        "colab": {
          "base_uri": "https://localhost:8080/",
          "height": 203
        },
        "id": "Y6w4FeLFqZhT",
        "outputId": "d5f7c476-1483-40fe-c9a8-aebe49020a6f"
      },
      "outputs": [
        {
          "data": {
            "text/html": [
              "<div>\n",
              "<style scoped>\n",
              "    .dataframe tbody tr th:only-of-type {\n",
              "        vertical-align: middle;\n",
              "    }\n",
              "\n",
              "    .dataframe tbody tr th {\n",
              "        vertical-align: top;\n",
              "    }\n",
              "\n",
              "    .dataframe thead th {\n",
              "        text-align: right;\n",
              "    }\n",
              "</style>\n",
              "<table border=\"1\" class=\"dataframe\">\n",
              "  <thead>\n",
              "    <tr style=\"text-align: right;\">\n",
              "      <th></th>\n",
              "      <th>review_id</th>\n",
              "      <th>order_id</th>\n",
              "      <th>review_score</th>\n",
              "    </tr>\n",
              "  </thead>\n",
              "  <tbody>\n",
              "    <tr>\n",
              "      <th>0</th>\n",
              "      <td>7bc2406110b926393aa56f80a40eba40</td>\n",
              "      <td>73fc7af87114b39712e6da79b0a377eb</td>\n",
              "      <td>4</td>\n",
              "    </tr>\n",
              "    <tr>\n",
              "      <th>1</th>\n",
              "      <td>80e641a11e56f04c1ad469d5645fdfde</td>\n",
              "      <td>a548910a1c6147796b98fdf73dbeba33</td>\n",
              "      <td>5</td>\n",
              "    </tr>\n",
              "    <tr>\n",
              "      <th>2</th>\n",
              "      <td>228ce5500dc1d8e020d8d1322874b6f0</td>\n",
              "      <td>f9e4b658b201a9f2ecdecbb34bed034b</td>\n",
              "      <td>5</td>\n",
              "    </tr>\n",
              "    <tr>\n",
              "      <th>3</th>\n",
              "      <td>e64fb393e7b32834bb789ff8bb30750e</td>\n",
              "      <td>658677c97b385a9be170737859d3511b</td>\n",
              "      <td>5</td>\n",
              "    </tr>\n",
              "    <tr>\n",
              "      <th>4</th>\n",
              "      <td>f7c4243c7fe1938f181bec41a392bdeb</td>\n",
              "      <td>8e6bfb81e283fa7e4f11123a3fb894f1</td>\n",
              "      <td>5</td>\n",
              "    </tr>\n",
              "  </tbody>\n",
              "</table>\n",
              "</div>"
            ],
            "text/plain": [
              "                          review_id  ... review_score\n",
              "0  7bc2406110b926393aa56f80a40eba40  ...            4\n",
              "1  80e641a11e56f04c1ad469d5645fdfde  ...            5\n",
              "2  228ce5500dc1d8e020d8d1322874b6f0  ...            5\n",
              "3  e64fb393e7b32834bb789ff8bb30750e  ...            5\n",
              "4  f7c4243c7fe1938f181bec41a392bdeb  ...            5\n",
              "\n",
              "[5 rows x 3 columns]"
            ]
          },
          "execution_count": 353,
          "metadata": {},
          "output_type": "execute_result"
        }
      ],
      "source": [
        "df_order_reviews.head()"
      ]
    },
    {
      "cell_type": "code",
      "execution_count": 354,
      "metadata": {
        "colab": {
          "base_uri": "https://localhost:8080/",
          "height": 203
        },
        "id": "dzMsaQaxqg7V",
        "outputId": "d5defab0-eba9-4c5f-de30-bb3a75ad0afe"
      },
      "outputs": [
        {
          "data": {
            "text/html": [
              "<div>\n",
              "<style scoped>\n",
              "    .dataframe tbody tr th:only-of-type {\n",
              "        vertical-align: middle;\n",
              "    }\n",
              "\n",
              "    .dataframe tbody tr th {\n",
              "        vertical-align: top;\n",
              "    }\n",
              "\n",
              "    .dataframe thead th {\n",
              "        text-align: right;\n",
              "    }\n",
              "</style>\n",
              "<table border=\"1\" class=\"dataframe\">\n",
              "  <thead>\n",
              "    <tr style=\"text-align: right;\">\n",
              "      <th></th>\n",
              "      <th>order_id</th>\n",
              "      <th>customer_id</th>\n",
              "      <th>order_status</th>\n",
              "    </tr>\n",
              "  </thead>\n",
              "  <tbody>\n",
              "    <tr>\n",
              "      <th>0</th>\n",
              "      <td>e481f51cbdc54678b7cc49136f2d6af7</td>\n",
              "      <td>9ef432eb6251297304e76186b10a928d</td>\n",
              "      <td>delivered</td>\n",
              "    </tr>\n",
              "    <tr>\n",
              "      <th>1</th>\n",
              "      <td>53cdb2fc8bc7dce0b6741e2150273451</td>\n",
              "      <td>b0830fb4747a6c6d20dea0b8c802d7ef</td>\n",
              "      <td>delivered</td>\n",
              "    </tr>\n",
              "    <tr>\n",
              "      <th>2</th>\n",
              "      <td>47770eb9100c2d0c44946d9cf07ec65d</td>\n",
              "      <td>41ce2a54c0b03bf3443c3d931a367089</td>\n",
              "      <td>delivered</td>\n",
              "    </tr>\n",
              "    <tr>\n",
              "      <th>3</th>\n",
              "      <td>949d5b44dbf5de918fe9c16f97b45f8a</td>\n",
              "      <td>f88197465ea7920adcdbec7375364d82</td>\n",
              "      <td>delivered</td>\n",
              "    </tr>\n",
              "    <tr>\n",
              "      <th>4</th>\n",
              "      <td>ad21c59c0840e6cb83a9ceb5573f8159</td>\n",
              "      <td>8ab97904e6daea8866dbdbc4fb7aad2c</td>\n",
              "      <td>delivered</td>\n",
              "    </tr>\n",
              "  </tbody>\n",
              "</table>\n",
              "</div>"
            ],
            "text/plain": [
              "                           order_id  ... order_status\n",
              "0  e481f51cbdc54678b7cc49136f2d6af7  ...    delivered\n",
              "1  53cdb2fc8bc7dce0b6741e2150273451  ...    delivered\n",
              "2  47770eb9100c2d0c44946d9cf07ec65d  ...    delivered\n",
              "3  949d5b44dbf5de918fe9c16f97b45f8a  ...    delivered\n",
              "4  ad21c59c0840e6cb83a9ceb5573f8159  ...    delivered\n",
              "\n",
              "[5 rows x 3 columns]"
            ]
          },
          "execution_count": 354,
          "metadata": {},
          "output_type": "execute_result"
        }
      ],
      "source": [
        "df_order.head()"
      ]
    },
    {
      "cell_type": "code",
      "execution_count": 355,
      "metadata": {
        "colab": {
          "base_uri": "https://localhost:8080/",
          "height": 203
        },
        "id": "6nwlElWNql55",
        "outputId": "1ec0a030-d461-4ad4-82cd-80c7270a4969"
      },
      "outputs": [
        {
          "data": {
            "text/html": [
              "<div>\n",
              "<style scoped>\n",
              "    .dataframe tbody tr th:only-of-type {\n",
              "        vertical-align: middle;\n",
              "    }\n",
              "\n",
              "    .dataframe tbody tr th {\n",
              "        vertical-align: top;\n",
              "    }\n",
              "\n",
              "    .dataframe thead th {\n",
              "        text-align: right;\n",
              "    }\n",
              "</style>\n",
              "<table border=\"1\" class=\"dataframe\">\n",
              "  <thead>\n",
              "    <tr style=\"text-align: right;\">\n",
              "      <th></th>\n",
              "      <th>product_id</th>\n",
              "      <th>product_category_name</th>\n",
              "      <th>product_name_lenght</th>\n",
              "      <th>product_description_lenght</th>\n",
              "      <th>product_weight_g</th>\n",
              "      <th>product_length_cm</th>\n",
              "      <th>product_height_cm</th>\n",
              "      <th>product_width_cm</th>\n",
              "    </tr>\n",
              "  </thead>\n",
              "  <tbody>\n",
              "    <tr>\n",
              "      <th>0</th>\n",
              "      <td>1e9e8ef04dbcff4541ed26657ea517e5</td>\n",
              "      <td>perfumaria</td>\n",
              "      <td>40.000</td>\n",
              "      <td>287.000</td>\n",
              "      <td>225.000</td>\n",
              "      <td>16.000</td>\n",
              "      <td>10.000</td>\n",
              "      <td>14.000</td>\n",
              "    </tr>\n",
              "    <tr>\n",
              "      <th>1</th>\n",
              "      <td>3aa071139cb16b67ca9e5dea641aaa2f</td>\n",
              "      <td>artes</td>\n",
              "      <td>44.000</td>\n",
              "      <td>276.000</td>\n",
              "      <td>1000.000</td>\n",
              "      <td>30.000</td>\n",
              "      <td>18.000</td>\n",
              "      <td>20.000</td>\n",
              "    </tr>\n",
              "    <tr>\n",
              "      <th>2</th>\n",
              "      <td>96bd76ec8810374ed1b65e291975717f</td>\n",
              "      <td>esporte_lazer</td>\n",
              "      <td>46.000</td>\n",
              "      <td>250.000</td>\n",
              "      <td>154.000</td>\n",
              "      <td>18.000</td>\n",
              "      <td>9.000</td>\n",
              "      <td>15.000</td>\n",
              "    </tr>\n",
              "    <tr>\n",
              "      <th>3</th>\n",
              "      <td>cef67bcfe19066a932b7673e239eb23d</td>\n",
              "      <td>bebes</td>\n",
              "      <td>27.000</td>\n",
              "      <td>261.000</td>\n",
              "      <td>371.000</td>\n",
              "      <td>26.000</td>\n",
              "      <td>4.000</td>\n",
              "      <td>26.000</td>\n",
              "    </tr>\n",
              "    <tr>\n",
              "      <th>4</th>\n",
              "      <td>9dc1a7de274444849c219cff195d0b71</td>\n",
              "      <td>utilidades_domesticas</td>\n",
              "      <td>37.000</td>\n",
              "      <td>402.000</td>\n",
              "      <td>625.000</td>\n",
              "      <td>20.000</td>\n",
              "      <td>17.000</td>\n",
              "      <td>13.000</td>\n",
              "    </tr>\n",
              "  </tbody>\n",
              "</table>\n",
              "</div>"
            ],
            "text/plain": [
              "                         product_id  ... product_width_cm\n",
              "0  1e9e8ef04dbcff4541ed26657ea517e5  ...           14.000\n",
              "1  3aa071139cb16b67ca9e5dea641aaa2f  ...           20.000\n",
              "2  96bd76ec8810374ed1b65e291975717f  ...           15.000\n",
              "3  cef67bcfe19066a932b7673e239eb23d  ...           26.000\n",
              "4  9dc1a7de274444849c219cff195d0b71  ...           13.000\n",
              "\n",
              "[5 rows x 8 columns]"
            ]
          },
          "execution_count": 355,
          "metadata": {},
          "output_type": "execute_result"
        }
      ],
      "source": [
        "df_products.head()"
      ]
    },
    {
      "cell_type": "markdown",
      "metadata": {
        "id": "_UwLj7-Rsn7T"
      },
      "source": [
        "Consolidando todas as bases de dados"
      ]
    },
    {
      "cell_type": "code",
      "execution_count": 356,
      "metadata": {
        "id": "8-oX3L0Lqv0O"
      },
      "outputs": [],
      "source": [
        "df_order_plus_review = df_order_itens.merge(df_order_reviews, on='order_id')\n"
      ]
    },
    {
      "cell_type": "code",
      "execution_count": 357,
      "metadata": {
        "id": "gJeXf9hbr81t"
      },
      "outputs": [],
      "source": [
        "df_order_plus_review_plus_status = df_order_plus_review.merge(df_order, on='order_id')\n"
      ]
    },
    {
      "cell_type": "code",
      "execution_count": 358,
      "metadata": {
        "colab": {
          "base_uri": "https://localhost:8080/",
          "height": 223
        },
        "id": "6WJWcg-fsNWY",
        "outputId": "71153e29-2468-41b5-b890-86674f7be57c"
      },
      "outputs": [
        {
          "data": {
            "text/html": [
              "<div>\n",
              "<style scoped>\n",
              "    .dataframe tbody tr th:only-of-type {\n",
              "        vertical-align: middle;\n",
              "    }\n",
              "\n",
              "    .dataframe tbody tr th {\n",
              "        vertical-align: top;\n",
              "    }\n",
              "\n",
              "    .dataframe thead th {\n",
              "        text-align: right;\n",
              "    }\n",
              "</style>\n",
              "<table border=\"1\" class=\"dataframe\">\n",
              "  <thead>\n",
              "    <tr style=\"text-align: right;\">\n",
              "      <th></th>\n",
              "      <th>order_id</th>\n",
              "      <th>order_item_id</th>\n",
              "      <th>product_id</th>\n",
              "      <th>price</th>\n",
              "      <th>review_id</th>\n",
              "      <th>review_score</th>\n",
              "      <th>customer_id</th>\n",
              "      <th>order_status</th>\n",
              "      <th>product_category_name</th>\n",
              "      <th>product_name_lenght</th>\n",
              "      <th>product_description_lenght</th>\n",
              "      <th>product_weight_g</th>\n",
              "      <th>product_length_cm</th>\n",
              "      <th>product_height_cm</th>\n",
              "      <th>product_width_cm</th>\n",
              "    </tr>\n",
              "  </thead>\n",
              "  <tbody>\n",
              "    <tr>\n",
              "      <th>0</th>\n",
              "      <td>00010242fe8c5a6d1ba2dd792cb16214</td>\n",
              "      <td>1</td>\n",
              "      <td>4244733e06e7ecb4970a6e2683c13e61</td>\n",
              "      <td>58.900</td>\n",
              "      <td>97ca439bc427b48bc1cd7177abe71365</td>\n",
              "      <td>5</td>\n",
              "      <td>3ce436f183e68e07877b285a838db11a</td>\n",
              "      <td>delivered</td>\n",
              "      <td>cool_stuff</td>\n",
              "      <td>58.000</td>\n",
              "      <td>598.000</td>\n",
              "      <td>650.000</td>\n",
              "      <td>28.000</td>\n",
              "      <td>9.000</td>\n",
              "      <td>14.000</td>\n",
              "    </tr>\n",
              "    <tr>\n",
              "      <th>1</th>\n",
              "      <td>130898c0987d1801452a8ed92a670612</td>\n",
              "      <td>1</td>\n",
              "      <td>4244733e06e7ecb4970a6e2683c13e61</td>\n",
              "      <td>55.900</td>\n",
              "      <td>b11cba360bbe71410c291b764753d37f</td>\n",
              "      <td>5</td>\n",
              "      <td>e6eecc5a77de221464d1c4eaff0a9b64</td>\n",
              "      <td>delivered</td>\n",
              "      <td>cool_stuff</td>\n",
              "      <td>58.000</td>\n",
              "      <td>598.000</td>\n",
              "      <td>650.000</td>\n",
              "      <td>28.000</td>\n",
              "      <td>9.000</td>\n",
              "      <td>14.000</td>\n",
              "    </tr>\n",
              "    <tr>\n",
              "      <th>2</th>\n",
              "      <td>532ed5e14e24ae1f0d735b91524b98b9</td>\n",
              "      <td>1</td>\n",
              "      <td>4244733e06e7ecb4970a6e2683c13e61</td>\n",
              "      <td>64.900</td>\n",
              "      <td>af01c4017c5ab46df6cc810e069e654a</td>\n",
              "      <td>4</td>\n",
              "      <td>4ef55bf80f711b372afebcb7c715344a</td>\n",
              "      <td>delivered</td>\n",
              "      <td>cool_stuff</td>\n",
              "      <td>58.000</td>\n",
              "      <td>598.000</td>\n",
              "      <td>650.000</td>\n",
              "      <td>28.000</td>\n",
              "      <td>9.000</td>\n",
              "      <td>14.000</td>\n",
              "    </tr>\n",
              "    <tr>\n",
              "      <th>3</th>\n",
              "      <td>6f8c31653edb8c83e1a739408b5ff750</td>\n",
              "      <td>1</td>\n",
              "      <td>4244733e06e7ecb4970a6e2683c13e61</td>\n",
              "      <td>58.900</td>\n",
              "      <td>8304ff37d8b16b57086fa283fe0c44f8</td>\n",
              "      <td>5</td>\n",
              "      <td>30407a72ad8b3f4df4d15369126b20c9</td>\n",
              "      <td>delivered</td>\n",
              "      <td>cool_stuff</td>\n",
              "      <td>58.000</td>\n",
              "      <td>598.000</td>\n",
              "      <td>650.000</td>\n",
              "      <td>28.000</td>\n",
              "      <td>9.000</td>\n",
              "      <td>14.000</td>\n",
              "    </tr>\n",
              "    <tr>\n",
              "      <th>4</th>\n",
              "      <td>7d19f4ef4d04461989632411b7e588b9</td>\n",
              "      <td>1</td>\n",
              "      <td>4244733e06e7ecb4970a6e2683c13e61</td>\n",
              "      <td>58.900</td>\n",
              "      <td>426f43a82185969503fb3c86241a9535</td>\n",
              "      <td>5</td>\n",
              "      <td>91a792fef70ecd8cc69d3c7feb3d12da</td>\n",
              "      <td>delivered</td>\n",
              "      <td>cool_stuff</td>\n",
              "      <td>58.000</td>\n",
              "      <td>598.000</td>\n",
              "      <td>650.000</td>\n",
              "      <td>28.000</td>\n",
              "      <td>9.000</td>\n",
              "      <td>14.000</td>\n",
              "    </tr>\n",
              "  </tbody>\n",
              "</table>\n",
              "</div>"
            ],
            "text/plain": [
              "                           order_id  ...  product_width_cm\n",
              "0  00010242fe8c5a6d1ba2dd792cb16214  ...            14.000\n",
              "1  130898c0987d1801452a8ed92a670612  ...            14.000\n",
              "2  532ed5e14e24ae1f0d735b91524b98b9  ...            14.000\n",
              "3  6f8c31653edb8c83e1a739408b5ff750  ...            14.000\n",
              "4  7d19f4ef4d04461989632411b7e588b9  ...            14.000\n",
              "\n",
              "[5 rows x 15 columns]"
            ]
          },
          "execution_count": 358,
          "metadata": {},
          "output_type": "execute_result"
        }
      ],
      "source": [
        "df_full = df_order_plus_review_plus_status.merge(df_products, on='product_id')\n",
        "df_full.head()"
      ]
    },
    {
      "cell_type": "code",
      "execution_count": 359,
      "metadata": {
        "colab": {
          "base_uri": "https://localhost:8080/"
        },
        "id": "AeQgTXtvslYF",
        "outputId": "e7c26179-74a6-4c6b-d863-9a98dd17d683"
      },
      "outputs": [
        {
          "data": {
            "text/plain": [
              "(112372, 15)"
            ]
          },
          "execution_count": 359,
          "metadata": {},
          "output_type": "execute_result"
        }
      ],
      "source": [
        "df_full.shape"
      ]
    },
    {
      "cell_type": "code",
      "execution_count": 360,
      "metadata": {
        "colab": {
          "base_uri": "https://localhost:8080/"
        },
        "id": "NJT6CTHjv8CD",
        "outputId": "0bb3d433-e964-4a4b-e3b6-d98f68c67080"
      },
      "outputs": [
        {
          "name": "stdout",
          "output_type": "stream",
          "text": [
            "a coluna order_id apresenta 0.0% de nulo\n",
            "a coluna order_item_id apresenta 0.0% de nulo\n",
            "a coluna product_id apresenta 0.0% de nulo\n",
            "a coluna price apresenta 0.0% de nulo\n",
            "a coluna review_id apresenta 0.0% de nulo\n",
            "a coluna review_score apresenta 0.0% de nulo\n",
            "a coluna customer_id apresenta 0.0% de nulo\n",
            "a coluna order_status apresenta 0.0% de nulo\n",
            "a coluna product_category_name apresenta 1.4220624354821485% de nulo\n",
            "a coluna product_name_lenght apresenta 1.4220624354821485% de nulo\n",
            "a coluna product_description_lenght apresenta 1.4220624354821485% de nulo\n",
            "a coluna product_weight_g apresenta 0.016018225180649985% de nulo\n",
            "a coluna product_length_cm apresenta 0.016018225180649985% de nulo\n",
            "a coluna product_height_cm apresenta 0.016018225180649985% de nulo\n",
            "a coluna product_width_cm apresenta 0.016018225180649985% de nulo\n"
          ]
        }
      ],
      "source": [
        "\n",
        "for columns in df_full:\n",
        "  porcentagem_de_nulos = (df_full[columns].isnull().sum()/df_full.shape[0])*100\n",
        "  print(f'a coluna {columns} apresenta {porcentagem_de_nulos}% de nulo')"
      ]
    },
    {
      "cell_type": "code",
      "execution_count": 361,
      "metadata": {
        "colab": {
          "base_uri": "https://localhost:8080/"
        },
        "id": "NHqDYlJ6t2jP",
        "outputId": "8b36bb85-1e0f-4c3d-e108-6820d744f613"
      },
      "outputs": [
        {
          "data": {
            "text/plain": [
              "<bound method DataFrame.dropna of                                 order_id  ...  product_width_cm\n",
              "0       00010242fe8c5a6d1ba2dd792cb16214  ...            14.000\n",
              "1       130898c0987d1801452a8ed92a670612  ...            14.000\n",
              "2       532ed5e14e24ae1f0d735b91524b98b9  ...            14.000\n",
              "3       6f8c31653edb8c83e1a739408b5ff750  ...            14.000\n",
              "4       7d19f4ef4d04461989632411b7e588b9  ...            14.000\n",
              "...                                  ...  ...               ...\n",
              "112367  ffebd80e3291e811c308365936897efd  ...            22.000\n",
              "112368  ffee31fb4b5e35c9123608015637c495  ...            20.000\n",
              "112369  fff7c4452f050315db1b3f24d9df5fcd  ...            15.000\n",
              "112370  fffa82886406ccf10c7b4e35c4ff2788  ...            15.000\n",
              "112371  fffe41c64501cc87c801fd61db3f6244  ...            19.000\n",
              "\n",
              "[112372 rows x 15 columns]>"
            ]
          },
          "execution_count": 361,
          "metadata": {},
          "output_type": "execute_result"
        }
      ],
      "source": [
        "df_full.dropna"
      ]
    },
    {
      "cell_type": "code",
      "execution_count": 362,
      "metadata": {
        "colab": {
          "base_uri": "https://localhost:8080/"
        },
        "id": "LPXsiND_vAFA",
        "outputId": "ad384fb6-9c88-40ad-9fca-a5a4869a32cc"
      },
      "outputs": [
        {
          "name": "stdout",
          "output_type": "stream",
          "text": [
            "<class 'pandas.core.frame.DataFrame'>\n",
            "Int64Index: 112372 entries, 0 to 112371\n",
            "Data columns (total 15 columns):\n",
            " #   Column                      Non-Null Count   Dtype  \n",
            "---  ------                      --------------   -----  \n",
            " 0   order_id                    112372 non-null  object \n",
            " 1   order_item_id               112372 non-null  int64  \n",
            " 2   product_id                  112372 non-null  object \n",
            " 3   price                       112372 non-null  float64\n",
            " 4   review_id                   112372 non-null  object \n",
            " 5   review_score                112372 non-null  int64  \n",
            " 6   customer_id                 112372 non-null  object \n",
            " 7   order_status                112372 non-null  object \n",
            " 8   product_category_name       110774 non-null  object \n",
            " 9   product_name_lenght         110774 non-null  float64\n",
            " 10  product_description_lenght  110774 non-null  float64\n",
            " 11  product_weight_g            112354 non-null  float64\n",
            " 12  product_length_cm           112354 non-null  float64\n",
            " 13  product_height_cm           112354 non-null  float64\n",
            " 14  product_width_cm            112354 non-null  float64\n",
            "dtypes: float64(7), int64(2), object(6)\n",
            "memory usage: 13.7+ MB\n"
          ]
        }
      ],
      "source": [
        "df_full.info()"
      ]
    },
    {
      "cell_type": "code",
      "execution_count": 363,
      "metadata": {
        "colab": {
          "base_uri": "https://localhost:8080/"
        },
        "id": "apM4_lGEvEgL",
        "outputId": "adbe1ab0-4142-456f-b191-4d18c3442b09"
      },
      "outputs": [
        {
          "name": "stdout",
          "output_type": "stream",
          "text": [
            "order_id aprensenta 97917 valores distintos\n",
            "order_item_id aprensenta 21 valores distintos\n",
            "product_id aprensenta 32789 valores distintos\n",
            "price aprensenta 5948 valores distintos\n",
            "review_id aprensenta 97709 valores distintos\n",
            "review_score aprensenta 5 valores distintos\n",
            "customer_id aprensenta 97917 valores distintos\n",
            "order_status aprensenta 7 valores distintos\n",
            "product_category_name aprensenta 73 valores distintos\n",
            "product_name_lenght aprensenta 66 valores distintos\n",
            "product_description_lenght aprensenta 2958 valores distintos\n",
            "product_weight_g aprensenta 2200 valores distintos\n",
            "product_length_cm aprensenta 99 valores distintos\n",
            "product_height_cm aprensenta 102 valores distintos\n",
            "product_width_cm aprensenta 95 valores distintos\n"
          ]
        }
      ],
      "source": [
        "for columns in df_full:\n",
        "  x = df_full[columns].nunique()\n",
        "  print(f'{columns} aprensenta {x} valores distintos')\n"
      ]
    },
    {
      "cell_type": "code",
      "execution_count": 364,
      "metadata": {
        "colab": {
          "base_uri": "https://localhost:8080/"
        },
        "id": "3NR3_w7hyiIc",
        "outputId": "0495e975-5463-469d-efaf-cdd5aea158b3"
      },
      "outputs": [
        {
          "data": {
            "text/plain": [
              "delivered      110013\n",
              "shipped          1110\n",
              "canceled          529\n",
              "invoiced          358\n",
              "processing        352\n",
              "unavailable         7\n",
              "approved            3\n",
              "Name: order_status, dtype: int64"
            ]
          },
          "execution_count": 364,
          "metadata": {},
          "output_type": "execute_result"
        }
      ],
      "source": [
        "df_full.order_status.value_counts()"
      ]
    },
    {
      "cell_type": "markdown",
      "metadata": {
        "id": "_CHNkbzFDTze"
      },
      "source": [
        "Verificando a diferença nos status dos pedidos"
      ]
    },
    {
      "cell_type": "code",
      "execution_count": 365,
      "metadata": {
        "colab": {
          "base_uri": "https://localhost:8080/",
          "height": 223
        },
        "id": "VDpBu6XHBS2E",
        "outputId": "ce71d9d4-0951-4a38-bf52-c413dc3322a2"
      },
      "outputs": [
        {
          "data": {
            "text/html": [
              "<div>\n",
              "<style scoped>\n",
              "    .dataframe tbody tr th:only-of-type {\n",
              "        vertical-align: middle;\n",
              "    }\n",
              "\n",
              "    .dataframe tbody tr th {\n",
              "        vertical-align: top;\n",
              "    }\n",
              "\n",
              "    .dataframe thead th {\n",
              "        text-align: right;\n",
              "    }\n",
              "</style>\n",
              "<table border=\"1\" class=\"dataframe\">\n",
              "  <thead>\n",
              "    <tr style=\"text-align: right;\">\n",
              "      <th></th>\n",
              "      <th>order_id</th>\n",
              "      <th>order_item_id</th>\n",
              "      <th>product_id</th>\n",
              "      <th>price</th>\n",
              "      <th>review_id</th>\n",
              "      <th>review_score</th>\n",
              "      <th>customer_id</th>\n",
              "      <th>order_status</th>\n",
              "      <th>product_category_name</th>\n",
              "      <th>product_name_lenght</th>\n",
              "      <th>product_description_lenght</th>\n",
              "      <th>product_weight_g</th>\n",
              "      <th>product_length_cm</th>\n",
              "      <th>product_height_cm</th>\n",
              "      <th>product_width_cm</th>\n",
              "    </tr>\n",
              "  </thead>\n",
              "  <tbody>\n",
              "    <tr>\n",
              "      <th>25</th>\n",
              "      <td>ed2f80d07bcb176e6097b0a730d3d53d</td>\n",
              "      <td>1</td>\n",
              "      <td>ac6c3623068f30de03045865e4e10089</td>\n",
              "      <td>199.900</td>\n",
              "      <td>e0aaa93a454746ac8e25db7fb1109aa2</td>\n",
              "      <td>1</td>\n",
              "      <td>672e306aed8cffc8a34f999f6b3cac52</td>\n",
              "      <td>shipped</td>\n",
              "      <td>ferramentas_jardim</td>\n",
              "      <td>59.000</td>\n",
              "      <td>409.000</td>\n",
              "      <td>3750.000</td>\n",
              "      <td>35.000</td>\n",
              "      <td>40.000</td>\n",
              "      <td>30.000</td>\n",
              "    </tr>\n",
              "    <tr>\n",
              "      <th>90</th>\n",
              "      <td>dce5adb99dbd09afb1a7b9a402df9f98</td>\n",
              "      <td>1</td>\n",
              "      <td>d63c1011f49d98b976c352955b1c4bea</td>\n",
              "      <td>59.990</td>\n",
              "      <td>355977d5ce8888845907ccc87f785183</td>\n",
              "      <td>1</td>\n",
              "      <td>217fd8f56b30bdad4ee2d74dc623ee13</td>\n",
              "      <td>shipped</td>\n",
              "      <td>beleza_saude</td>\n",
              "      <td>57.000</td>\n",
              "      <td>614.000</td>\n",
              "      <td>950.000</td>\n",
              "      <td>35.000</td>\n",
              "      <td>25.000</td>\n",
              "      <td>20.000</td>\n",
              "    </tr>\n",
              "    <tr>\n",
              "      <th>123</th>\n",
              "      <td>0d760576500ea8611379a97ddcebf3db</td>\n",
              "      <td>1</td>\n",
              "      <td>99a4788cb24856965c36a24e339b6058</td>\n",
              "      <td>89.900</td>\n",
              "      <td>ba09bcd23270154d016525ad56e8a709</td>\n",
              "      <td>1</td>\n",
              "      <td>f7f4c88bd5093db7e3fc7baad3cd8deb</td>\n",
              "      <td>shipped</td>\n",
              "      <td>cama_mesa_banho</td>\n",
              "      <td>54.000</td>\n",
              "      <td>245.000</td>\n",
              "      <td>1383.000</td>\n",
              "      <td>50.000</td>\n",
              "      <td>10.000</td>\n",
              "      <td>40.000</td>\n",
              "    </tr>\n",
              "    <tr>\n",
              "      <th>292</th>\n",
              "      <td>6762c128b601a5d3cf6c51958ecec54f</td>\n",
              "      <td>1</td>\n",
              "      <td>99a4788cb24856965c36a24e339b6058</td>\n",
              "      <td>89.900</td>\n",
              "      <td>a6ab03fa96eba44d227ff3dcc4a366a5</td>\n",
              "      <td>1</td>\n",
              "      <td>1636ea836eb8309398c3a98f0fcf4951</td>\n",
              "      <td>shipped</td>\n",
              "      <td>cama_mesa_banho</td>\n",
              "      <td>54.000</td>\n",
              "      <td>245.000</td>\n",
              "      <td>1383.000</td>\n",
              "      <td>50.000</td>\n",
              "      <td>10.000</td>\n",
              "      <td>40.000</td>\n",
              "    </tr>\n",
              "    <tr>\n",
              "      <th>294</th>\n",
              "      <td>686000ebfaca7883583f123c458a89b7</td>\n",
              "      <td>1</td>\n",
              "      <td>99a4788cb24856965c36a24e339b6058</td>\n",
              "      <td>89.900</td>\n",
              "      <td>1c2a9e25072bf728b298b7ddc6e6d7f1</td>\n",
              "      <td>4</td>\n",
              "      <td>af6378fee220bbc5a909a38beaf2c4fe</td>\n",
              "      <td>shipped</td>\n",
              "      <td>cama_mesa_banho</td>\n",
              "      <td>54.000</td>\n",
              "      <td>245.000</td>\n",
              "      <td>1383.000</td>\n",
              "      <td>50.000</td>\n",
              "      <td>10.000</td>\n",
              "      <td>40.000</td>\n",
              "    </tr>\n",
              "  </tbody>\n",
              "</table>\n",
              "</div>"
            ],
            "text/plain": [
              "                             order_id  ...  product_width_cm\n",
              "25   ed2f80d07bcb176e6097b0a730d3d53d  ...            30.000\n",
              "90   dce5adb99dbd09afb1a7b9a402df9f98  ...            20.000\n",
              "123  0d760576500ea8611379a97ddcebf3db  ...            40.000\n",
              "292  6762c128b601a5d3cf6c51958ecec54f  ...            40.000\n",
              "294  686000ebfaca7883583f123c458a89b7  ...            40.000\n",
              "\n",
              "[5 rows x 15 columns]"
            ]
          },
          "execution_count": 365,
          "metadata": {},
          "output_type": "execute_result"
        }
      ],
      "source": [
        "df_incomplete_order = df_full[df_full['order_status']!='delivered']\n",
        "df_incomplete_order.head()"
      ]
    },
    {
      "cell_type": "code",
      "execution_count": 366,
      "metadata": {
        "colab": {
          "base_uri": "https://localhost:8080/"
        },
        "id": "e7A6N_w2HBws",
        "outputId": "f105e8b6-78d1-4bfd-d2ee-d92ab0d94db1"
      },
      "outputs": [
        {
          "data": {
            "text/plain": [
              "(2359, 15)"
            ]
          },
          "execution_count": 366,
          "metadata": {},
          "output_type": "execute_result"
        }
      ],
      "source": [
        "df_incomplete_order.shape"
      ]
    },
    {
      "cell_type": "code",
      "execution_count": 367,
      "metadata": {
        "colab": {
          "base_uri": "https://localhost:8080/"
        },
        "id": "j2LWvhewCKTM",
        "outputId": "78340e40-39c6-485b-9fb4-aa05495fbd55"
      },
      "outputs": [
        {
          "data": {
            "text/plain": [
              "1    2104\n",
              "2     164\n",
              "3      41\n",
              "4      27\n",
              "5      17\n",
              "6       6\n",
              "Name: order_item_id, dtype: int64"
            ]
          },
          "execution_count": 367,
          "metadata": {},
          "output_type": "execute_result"
        }
      ],
      "source": [
        "df_incomplete_order['order_item_id'].value_counts()"
      ]
    },
    {
      "cell_type": "code",
      "execution_count": 368,
      "metadata": {
        "colab": {
          "base_uri": "https://localhost:8080/"
        },
        "id": "FF4nTEQXIKFn",
        "outputId": "e973f01e-9c12-4d03-9511-2d5f505063bf"
      },
      "outputs": [
        {
          "data": {
            "text/plain": [
              "1    1660\n",
              "5     213\n",
              "3     181\n",
              "2     174\n",
              "4     131\n",
              "Name: review_score, dtype: int64"
            ]
          },
          "execution_count": 368,
          "metadata": {},
          "output_type": "execute_result"
        }
      ],
      "source": [
        "df_incomplete_order['review_score'].value_counts()"
      ]
    },
    {
      "cell_type": "code",
      "execution_count": 369,
      "metadata": {
        "colab": {
          "base_uri": "https://localhost:8080/",
          "height": 223
        },
        "id": "LRSW72HoB4ds",
        "outputId": "ffc5c98c-0d9b-492a-f04d-6bc8ba1def41"
      },
      "outputs": [
        {
          "data": {
            "text/html": [
              "<div>\n",
              "<style scoped>\n",
              "    .dataframe tbody tr th:only-of-type {\n",
              "        vertical-align: middle;\n",
              "    }\n",
              "\n",
              "    .dataframe tbody tr th {\n",
              "        vertical-align: top;\n",
              "    }\n",
              "\n",
              "    .dataframe thead th {\n",
              "        text-align: right;\n",
              "    }\n",
              "</style>\n",
              "<table border=\"1\" class=\"dataframe\">\n",
              "  <thead>\n",
              "    <tr style=\"text-align: right;\">\n",
              "      <th></th>\n",
              "      <th>order_id</th>\n",
              "      <th>order_item_id</th>\n",
              "      <th>product_id</th>\n",
              "      <th>price</th>\n",
              "      <th>review_id</th>\n",
              "      <th>review_score</th>\n",
              "      <th>customer_id</th>\n",
              "      <th>order_status</th>\n",
              "      <th>product_category_name</th>\n",
              "      <th>product_name_lenght</th>\n",
              "      <th>product_description_lenght</th>\n",
              "      <th>product_weight_g</th>\n",
              "      <th>product_length_cm</th>\n",
              "      <th>product_height_cm</th>\n",
              "      <th>product_width_cm</th>\n",
              "    </tr>\n",
              "  </thead>\n",
              "  <tbody>\n",
              "    <tr>\n",
              "      <th>0</th>\n",
              "      <td>00010242fe8c5a6d1ba2dd792cb16214</td>\n",
              "      <td>1</td>\n",
              "      <td>4244733e06e7ecb4970a6e2683c13e61</td>\n",
              "      <td>58.900</td>\n",
              "      <td>97ca439bc427b48bc1cd7177abe71365</td>\n",
              "      <td>5</td>\n",
              "      <td>3ce436f183e68e07877b285a838db11a</td>\n",
              "      <td>delivered</td>\n",
              "      <td>cool_stuff</td>\n",
              "      <td>58.000</td>\n",
              "      <td>598.000</td>\n",
              "      <td>650.000</td>\n",
              "      <td>28.000</td>\n",
              "      <td>9.000</td>\n",
              "      <td>14.000</td>\n",
              "    </tr>\n",
              "    <tr>\n",
              "      <th>1</th>\n",
              "      <td>130898c0987d1801452a8ed92a670612</td>\n",
              "      <td>1</td>\n",
              "      <td>4244733e06e7ecb4970a6e2683c13e61</td>\n",
              "      <td>55.900</td>\n",
              "      <td>b11cba360bbe71410c291b764753d37f</td>\n",
              "      <td>5</td>\n",
              "      <td>e6eecc5a77de221464d1c4eaff0a9b64</td>\n",
              "      <td>delivered</td>\n",
              "      <td>cool_stuff</td>\n",
              "      <td>58.000</td>\n",
              "      <td>598.000</td>\n",
              "      <td>650.000</td>\n",
              "      <td>28.000</td>\n",
              "      <td>9.000</td>\n",
              "      <td>14.000</td>\n",
              "    </tr>\n",
              "    <tr>\n",
              "      <th>2</th>\n",
              "      <td>532ed5e14e24ae1f0d735b91524b98b9</td>\n",
              "      <td>1</td>\n",
              "      <td>4244733e06e7ecb4970a6e2683c13e61</td>\n",
              "      <td>64.900</td>\n",
              "      <td>af01c4017c5ab46df6cc810e069e654a</td>\n",
              "      <td>4</td>\n",
              "      <td>4ef55bf80f711b372afebcb7c715344a</td>\n",
              "      <td>delivered</td>\n",
              "      <td>cool_stuff</td>\n",
              "      <td>58.000</td>\n",
              "      <td>598.000</td>\n",
              "      <td>650.000</td>\n",
              "      <td>28.000</td>\n",
              "      <td>9.000</td>\n",
              "      <td>14.000</td>\n",
              "    </tr>\n",
              "    <tr>\n",
              "      <th>3</th>\n",
              "      <td>6f8c31653edb8c83e1a739408b5ff750</td>\n",
              "      <td>1</td>\n",
              "      <td>4244733e06e7ecb4970a6e2683c13e61</td>\n",
              "      <td>58.900</td>\n",
              "      <td>8304ff37d8b16b57086fa283fe0c44f8</td>\n",
              "      <td>5</td>\n",
              "      <td>30407a72ad8b3f4df4d15369126b20c9</td>\n",
              "      <td>delivered</td>\n",
              "      <td>cool_stuff</td>\n",
              "      <td>58.000</td>\n",
              "      <td>598.000</td>\n",
              "      <td>650.000</td>\n",
              "      <td>28.000</td>\n",
              "      <td>9.000</td>\n",
              "      <td>14.000</td>\n",
              "    </tr>\n",
              "    <tr>\n",
              "      <th>4</th>\n",
              "      <td>7d19f4ef4d04461989632411b7e588b9</td>\n",
              "      <td>1</td>\n",
              "      <td>4244733e06e7ecb4970a6e2683c13e61</td>\n",
              "      <td>58.900</td>\n",
              "      <td>426f43a82185969503fb3c86241a9535</td>\n",
              "      <td>5</td>\n",
              "      <td>91a792fef70ecd8cc69d3c7feb3d12da</td>\n",
              "      <td>delivered</td>\n",
              "      <td>cool_stuff</td>\n",
              "      <td>58.000</td>\n",
              "      <td>598.000</td>\n",
              "      <td>650.000</td>\n",
              "      <td>28.000</td>\n",
              "      <td>9.000</td>\n",
              "      <td>14.000</td>\n",
              "    </tr>\n",
              "  </tbody>\n",
              "</table>\n",
              "</div>"
            ],
            "text/plain": [
              "                           order_id  ...  product_width_cm\n",
              "0  00010242fe8c5a6d1ba2dd792cb16214  ...            14.000\n",
              "1  130898c0987d1801452a8ed92a670612  ...            14.000\n",
              "2  532ed5e14e24ae1f0d735b91524b98b9  ...            14.000\n",
              "3  6f8c31653edb8c83e1a739408b5ff750  ...            14.000\n",
              "4  7d19f4ef4d04461989632411b7e588b9  ...            14.000\n",
              "\n",
              "[5 rows x 15 columns]"
            ]
          },
          "execution_count": 369,
          "metadata": {},
          "output_type": "execute_result"
        }
      ],
      "source": [
        "df_complete_order = df_full[df_full['order_status']=='delivered']\n",
        "df_complete_order.head()"
      ]
    },
    {
      "cell_type": "code",
      "execution_count": 370,
      "metadata": {
        "colab": {
          "base_uri": "https://localhost:8080/"
        },
        "id": "CZgKMqTrHECg",
        "outputId": "a4567fcc-559d-4d95-fb8e-f7d8596dc637"
      },
      "outputs": [
        {
          "data": {
            "text/plain": [
              "(110013, 15)"
            ]
          },
          "execution_count": 370,
          "metadata": {},
          "output_type": "execute_result"
        }
      ],
      "source": [
        "df_complete_order.shape"
      ]
    },
    {
      "cell_type": "code",
      "execution_count": 371,
      "metadata": {
        "colab": {
          "base_uri": "https://localhost:8080/"
        },
        "id": "AsJw0HfapU7D",
        "outputId": "add681a5-aeea-44d6-b784-607afdf2ee50"
      },
      "outputs": [
        {
          "data": {
            "text/plain": [
              "False    112372\n",
              "dtype: int64"
            ]
          },
          "execution_count": 371,
          "metadata": {},
          "output_type": "execute_result"
        }
      ],
      "source": [
        "df_full.duplicated().value_counts()"
      ]
    },
    {
      "cell_type": "code",
      "execution_count": 372,
      "metadata": {
        "colab": {
          "base_uri": "https://localhost:8080/"
        },
        "id": "xAw6zNJCHJh5",
        "outputId": "ded5e548-9e97-42a3-c7e7-d50be2814634"
      },
      "outputs": [
        {
          "name": "stdout",
          "output_type": "stream",
          "text": [
            " a porcentagem de pedidos entregues é de 97.90072259993593 %\n"
          ]
        }
      ],
      "source": [
        "pedidos_entregues = df_complete_order.shape[0]/df_full.shape[0]*100\n",
        "print(f' a porcentagem de pedidos entregues é de {pedidos_entregues} %') "
      ]
    },
    {
      "cell_type": "markdown",
      "metadata": {
        "id": "KMTYHHq3Hm7A"
      },
      "source": [
        "Isto posto, será utilizado apenas os valores dos **pedidos entregues**"
      ]
    },
    {
      "cell_type": "code",
      "execution_count": 373,
      "metadata": {
        "id": "ts7HTzi-IvvB"
      },
      "outputs": [],
      "source": [
        "df_full = df_full[df_full['order_status']=='delivered']"
      ]
    },
    {
      "cell_type": "markdown",
      "metadata": {
        "id": "6F_dnRCJFzFO"
      },
      "source": [
        "#Recomendações"
      ]
    },
    {
      "cell_type": "markdown",
      "metadata": {
        "id": "nZI0aZeHU7aq"
      },
      "source": [
        "#Filtro Colaborativo"
      ]
    },
    {
      "cell_type": "markdown",
      "metadata": {
        "id": "IFfB9feADsyJ"
      },
      "source": [
        "## Recomendação dos itens melhores avaliados de acordo com a média (reviews)"
      ]
    },
    {
      "cell_type": "code",
      "execution_count": 374,
      "metadata": {
        "colab": {
          "base_uri": "https://localhost:8080/",
          "height": 223
        },
        "id": "LJowRtp6ERYx",
        "outputId": "3806d15f-1653-4cc6-d8cc-f0b26dd2202d"
      },
      "outputs": [
        {
          "data": {
            "text/html": [
              "<div>\n",
              "<style scoped>\n",
              "    .dataframe tbody tr th:only-of-type {\n",
              "        vertical-align: middle;\n",
              "    }\n",
              "\n",
              "    .dataframe tbody tr th {\n",
              "        vertical-align: top;\n",
              "    }\n",
              "\n",
              "    .dataframe thead th {\n",
              "        text-align: right;\n",
              "    }\n",
              "</style>\n",
              "<table border=\"1\" class=\"dataframe\">\n",
              "  <thead>\n",
              "    <tr style=\"text-align: right;\">\n",
              "      <th></th>\n",
              "      <th>order_id</th>\n",
              "      <th>order_item_id</th>\n",
              "      <th>product_id</th>\n",
              "      <th>price</th>\n",
              "      <th>review_id</th>\n",
              "      <th>review_score</th>\n",
              "      <th>customer_id</th>\n",
              "      <th>order_status</th>\n",
              "      <th>product_category_name</th>\n",
              "      <th>product_name_lenght</th>\n",
              "      <th>product_description_lenght</th>\n",
              "      <th>product_weight_g</th>\n",
              "      <th>product_length_cm</th>\n",
              "      <th>product_height_cm</th>\n",
              "      <th>product_width_cm</th>\n",
              "    </tr>\n",
              "  </thead>\n",
              "  <tbody>\n",
              "    <tr>\n",
              "      <th>0</th>\n",
              "      <td>00010242fe8c5a6d1ba2dd792cb16214</td>\n",
              "      <td>1</td>\n",
              "      <td>4244733e06e7ecb4970a6e2683c13e61</td>\n",
              "      <td>58.900</td>\n",
              "      <td>97ca439bc427b48bc1cd7177abe71365</td>\n",
              "      <td>5</td>\n",
              "      <td>3ce436f183e68e07877b285a838db11a</td>\n",
              "      <td>delivered</td>\n",
              "      <td>cool_stuff</td>\n",
              "      <td>58.000</td>\n",
              "      <td>598.000</td>\n",
              "      <td>650.000</td>\n",
              "      <td>28.000</td>\n",
              "      <td>9.000</td>\n",
              "      <td>14.000</td>\n",
              "    </tr>\n",
              "    <tr>\n",
              "      <th>1</th>\n",
              "      <td>130898c0987d1801452a8ed92a670612</td>\n",
              "      <td>1</td>\n",
              "      <td>4244733e06e7ecb4970a6e2683c13e61</td>\n",
              "      <td>55.900</td>\n",
              "      <td>b11cba360bbe71410c291b764753d37f</td>\n",
              "      <td>5</td>\n",
              "      <td>e6eecc5a77de221464d1c4eaff0a9b64</td>\n",
              "      <td>delivered</td>\n",
              "      <td>cool_stuff</td>\n",
              "      <td>58.000</td>\n",
              "      <td>598.000</td>\n",
              "      <td>650.000</td>\n",
              "      <td>28.000</td>\n",
              "      <td>9.000</td>\n",
              "      <td>14.000</td>\n",
              "    </tr>\n",
              "    <tr>\n",
              "      <th>2</th>\n",
              "      <td>532ed5e14e24ae1f0d735b91524b98b9</td>\n",
              "      <td>1</td>\n",
              "      <td>4244733e06e7ecb4970a6e2683c13e61</td>\n",
              "      <td>64.900</td>\n",
              "      <td>af01c4017c5ab46df6cc810e069e654a</td>\n",
              "      <td>4</td>\n",
              "      <td>4ef55bf80f711b372afebcb7c715344a</td>\n",
              "      <td>delivered</td>\n",
              "      <td>cool_stuff</td>\n",
              "      <td>58.000</td>\n",
              "      <td>598.000</td>\n",
              "      <td>650.000</td>\n",
              "      <td>28.000</td>\n",
              "      <td>9.000</td>\n",
              "      <td>14.000</td>\n",
              "    </tr>\n",
              "    <tr>\n",
              "      <th>3</th>\n",
              "      <td>6f8c31653edb8c83e1a739408b5ff750</td>\n",
              "      <td>1</td>\n",
              "      <td>4244733e06e7ecb4970a6e2683c13e61</td>\n",
              "      <td>58.900</td>\n",
              "      <td>8304ff37d8b16b57086fa283fe0c44f8</td>\n",
              "      <td>5</td>\n",
              "      <td>30407a72ad8b3f4df4d15369126b20c9</td>\n",
              "      <td>delivered</td>\n",
              "      <td>cool_stuff</td>\n",
              "      <td>58.000</td>\n",
              "      <td>598.000</td>\n",
              "      <td>650.000</td>\n",
              "      <td>28.000</td>\n",
              "      <td>9.000</td>\n",
              "      <td>14.000</td>\n",
              "    </tr>\n",
              "    <tr>\n",
              "      <th>4</th>\n",
              "      <td>7d19f4ef4d04461989632411b7e588b9</td>\n",
              "      <td>1</td>\n",
              "      <td>4244733e06e7ecb4970a6e2683c13e61</td>\n",
              "      <td>58.900</td>\n",
              "      <td>426f43a82185969503fb3c86241a9535</td>\n",
              "      <td>5</td>\n",
              "      <td>91a792fef70ecd8cc69d3c7feb3d12da</td>\n",
              "      <td>delivered</td>\n",
              "      <td>cool_stuff</td>\n",
              "      <td>58.000</td>\n",
              "      <td>598.000</td>\n",
              "      <td>650.000</td>\n",
              "      <td>28.000</td>\n",
              "      <td>9.000</td>\n",
              "      <td>14.000</td>\n",
              "    </tr>\n",
              "  </tbody>\n",
              "</table>\n",
              "</div>"
            ],
            "text/plain": [
              "                           order_id  ...  product_width_cm\n",
              "0  00010242fe8c5a6d1ba2dd792cb16214  ...            14.000\n",
              "1  130898c0987d1801452a8ed92a670612  ...            14.000\n",
              "2  532ed5e14e24ae1f0d735b91524b98b9  ...            14.000\n",
              "3  6f8c31653edb8c83e1a739408b5ff750  ...            14.000\n",
              "4  7d19f4ef4d04461989632411b7e588b9  ...            14.000\n",
              "\n",
              "[5 rows x 15 columns]"
            ]
          },
          "execution_count": 374,
          "metadata": {},
          "output_type": "execute_result"
        }
      ],
      "source": [
        "df_full.head()"
      ]
    },
    {
      "cell_type": "code",
      "execution_count": 375,
      "metadata": {
        "colab": {
          "base_uri": "https://localhost:8080/"
        },
        "id": "VIvFuNXbCEGL",
        "outputId": "61baa0ea-a64e-44e3-c36d-51d24f1e760e"
      },
      "outputs": [
        {
          "data": {
            "text/plain": [
              "5    63312\n",
              "4    21184\n",
              "1    12575\n",
              "3     9242\n",
              "2     3700\n",
              "Name: review_score, dtype: int64"
            ]
          },
          "execution_count": 375,
          "metadata": {},
          "output_type": "execute_result"
        }
      ],
      "source": [
        "df_full['review_score'].value_counts()"
      ]
    },
    {
      "cell_type": "markdown",
      "metadata": {
        "id": "8JVAPfoaH2b2"
      },
      "source": [
        "Não temos valores nulos de review"
      ]
    },
    {
      "cell_type": "code",
      "execution_count": 376,
      "metadata": {
        "colab": {
          "base_uri": "https://localhost:8080/",
          "height": 388
        },
        "id": "7YOKf4odEIOg",
        "outputId": "e73e6ca2-ba1c-4534-98cb-a4dedf502a43"
      },
      "outputs": [
        {
          "data": {
            "text/html": [
              "<div>\n",
              "<style scoped>\n",
              "    .dataframe tbody tr th:only-of-type {\n",
              "        vertical-align: middle;\n",
              "    }\n",
              "\n",
              "    .dataframe tbody tr th {\n",
              "        vertical-align: top;\n",
              "    }\n",
              "\n",
              "    .dataframe thead th {\n",
              "        text-align: right;\n",
              "    }\n",
              "</style>\n",
              "<table border=\"1\" class=\"dataframe\">\n",
              "  <thead>\n",
              "    <tr style=\"text-align: right;\">\n",
              "      <th></th>\n",
              "      <th></th>\n",
              "      <th></th>\n",
              "      <th>review_score</th>\n",
              "    </tr>\n",
              "    <tr>\n",
              "      <th>product_id</th>\n",
              "      <th>product_category_name</th>\n",
              "      <th>price</th>\n",
              "      <th></th>\n",
              "    </tr>\n",
              "  </thead>\n",
              "  <tbody>\n",
              "    <tr>\n",
              "      <th>00066f42aeeb9f3007548bb9d3f33c38</th>\n",
              "      <th>perfumaria</th>\n",
              "      <th>101.650</th>\n",
              "      <td>5.000</td>\n",
              "    </tr>\n",
              "    <tr>\n",
              "      <th>652c030867f364b558eb9f7dcbcf608d</th>\n",
              "      <th>brinquedos</th>\n",
              "      <th>159.990</th>\n",
              "      <td>5.000</td>\n",
              "    </tr>\n",
              "    <tr>\n",
              "      <th>c8e98656b0bfc1efbadc25aa3fb9640e</th>\n",
              "      <th>beleza_saude</th>\n",
              "      <th>107.900</th>\n",
              "      <td>5.000</td>\n",
              "    </tr>\n",
              "    <tr>\n",
              "      <th>c8eb5b2d7173db25ec9bfc54dcb4ccbb</th>\n",
              "      <th>bebes</th>\n",
              "      <th>147.990</th>\n",
              "      <td>5.000</td>\n",
              "    </tr>\n",
              "    <tr>\n",
              "      <th>653b6b1217fba117599afcc015ffd50a</th>\n",
              "      <th>construcao_ferramentas_seguranca</th>\n",
              "      <th>164.900</th>\n",
              "      <td>5.000</td>\n",
              "    </tr>\n",
              "    <tr>\n",
              "      <th>6539512c6f2fa68ca44dbfac42dc1f70</th>\n",
              "      <th>automotivo</th>\n",
              "      <th>194.490</th>\n",
              "      <td>5.000</td>\n",
              "    </tr>\n",
              "    <tr>\n",
              "      <th>65330e90e0019aa477e442b9b8e156a1</th>\n",
              "      <th>fashion_roupa_masculina</th>\n",
              "      <th>110.900</th>\n",
              "      <td>5.000</td>\n",
              "    </tr>\n",
              "    <tr>\n",
              "      <th>652cee66eaed09b444b43463eee56cc7</th>\n",
              "      <th>fashion_calcados</th>\n",
              "      <th>220.700</th>\n",
              "      <td>5.000</td>\n",
              "    </tr>\n",
              "    <tr>\n",
              "      <th>c8eb5b2d7173db25ec9bfc54dcb4ccbb</th>\n",
              "      <th>bebes</th>\n",
              "      <th>149.550</th>\n",
              "      <td>5.000</td>\n",
              "    </tr>\n",
              "    <tr>\n",
              "      <th>652c030867f364b558eb9f7dcbcf608d</th>\n",
              "      <th>brinquedos</th>\n",
              "      <th>179.990</th>\n",
              "      <td>5.000</td>\n",
              "    </tr>\n",
              "  </tbody>\n",
              "</table>\n",
              "</div>"
            ],
            "text/plain": [
              "                                                                           review_score\n",
              "product_id                       product_category_name            price                \n",
              "00066f42aeeb9f3007548bb9d3f33c38 perfumaria                       101.650         5.000\n",
              "652c030867f364b558eb9f7dcbcf608d brinquedos                       159.990         5.000\n",
              "c8e98656b0bfc1efbadc25aa3fb9640e beleza_saude                     107.900         5.000\n",
              "c8eb5b2d7173db25ec9bfc54dcb4ccbb bebes                            147.990         5.000\n",
              "653b6b1217fba117599afcc015ffd50a construcao_ferramentas_seguranca 164.900         5.000\n",
              "6539512c6f2fa68ca44dbfac42dc1f70 automotivo                       194.490         5.000\n",
              "65330e90e0019aa477e442b9b8e156a1 fashion_roupa_masculina          110.900         5.000\n",
              "652cee66eaed09b444b43463eee56cc7 fashion_calcados                 220.700         5.000\n",
              "c8eb5b2d7173db25ec9bfc54dcb4ccbb bebes                            149.550         5.000\n",
              "652c030867f364b558eb9f7dcbcf608d brinquedos                       179.990         5.000"
            ]
          },
          "execution_count": 376,
          "metadata": {},
          "output_type": "execute_result"
        }
      ],
      "source": [
        "reviews_mean = pd.DataFrame(df_full.groupby(['product_id', 'product_category_name', 'price'])['review_score'].mean())\n",
        "\n",
        "top10 = reviews_mean.sort_values('review_score', ascending = False).head(10)\n",
        "top10"
      ]
    },
    {
      "cell_type": "markdown",
      "metadata": {
        "id": "YORQC6jkFvIP"
      },
      "source": [
        " ## Recomendação de itens mais populares"
      ]
    },
    {
      "cell_type": "code",
      "execution_count": 377,
      "metadata": {
        "colab": {
          "base_uri": "https://localhost:8080/",
          "height": 388
        },
        "id": "CmzIImZgF3VP",
        "outputId": "efe8ab7d-8486-451c-cb01-b10365065026"
      },
      "outputs": [
        {
          "data": {
            "text/html": [
              "<div>\n",
              "<style scoped>\n",
              "    .dataframe tbody tr th:only-of-type {\n",
              "        vertical-align: middle;\n",
              "    }\n",
              "\n",
              "    .dataframe tbody tr th {\n",
              "        vertical-align: top;\n",
              "    }\n",
              "\n",
              "    .dataframe thead th {\n",
              "        text-align: right;\n",
              "    }\n",
              "</style>\n",
              "<table border=\"1\" class=\"dataframe\">\n",
              "  <thead>\n",
              "    <tr style=\"text-align: right;\">\n",
              "      <th></th>\n",
              "      <th>product_category_name</th>\n",
              "      <th>costumer_count</th>\n",
              "    </tr>\n",
              "    <tr>\n",
              "      <th>product_id</th>\n",
              "      <th></th>\n",
              "      <th></th>\n",
              "    </tr>\n",
              "  </thead>\n",
              "  <tbody>\n",
              "    <tr>\n",
              "      <th>99a4788cb24856965c36a24e339b6058</th>\n",
              "      <td>cama_mesa_banho</td>\n",
              "      <td>448</td>\n",
              "    </tr>\n",
              "    <tr>\n",
              "      <th>aca2eb7d00ea1a7b8ebd4e68314663af</th>\n",
              "      <td>moveis_decoracao</td>\n",
              "      <td>423</td>\n",
              "    </tr>\n",
              "    <tr>\n",
              "      <th>422879e10f46682990de24d770e7f83d</th>\n",
              "      <td>ferramentas_jardim</td>\n",
              "      <td>351</td>\n",
              "    </tr>\n",
              "    <tr>\n",
              "      <th>d1c427060a0f73f6b889a5c7c61f2ac4</th>\n",
              "      <td>informatica_acessorios</td>\n",
              "      <td>311</td>\n",
              "    </tr>\n",
              "    <tr>\n",
              "      <th>389d119b48cf3043d311335e499d9c6b</th>\n",
              "      <td>ferramentas_jardim</td>\n",
              "      <td>308</td>\n",
              "    </tr>\n",
              "    <tr>\n",
              "      <th>53b36df67ebb7c41585e8d54d6772e08</th>\n",
              "      <td>relogios_presentes</td>\n",
              "      <td>302</td>\n",
              "    </tr>\n",
              "    <tr>\n",
              "      <th>368c6c730842d78016ad823897a372db</th>\n",
              "      <td>ferramentas_jardim</td>\n",
              "      <td>289</td>\n",
              "    </tr>\n",
              "    <tr>\n",
              "      <th>53759a2ecddad2bb87a079a1f1519f73</th>\n",
              "      <td>ferramentas_jardim</td>\n",
              "      <td>285</td>\n",
              "    </tr>\n",
              "    <tr>\n",
              "      <th>154e7e31ebfa092203795c972e5804a6</th>\n",
              "      <td>beleza_saude</td>\n",
              "      <td>261</td>\n",
              "    </tr>\n",
              "    <tr>\n",
              "      <th>2b4609f8948be18874494203496bc318</th>\n",
              "      <td>beleza_saude</td>\n",
              "      <td>254</td>\n",
              "    </tr>\n",
              "  </tbody>\n",
              "</table>\n",
              "</div>"
            ],
            "text/plain": [
              "                                   product_category_name  costumer_count\n",
              "product_id                                                              \n",
              "99a4788cb24856965c36a24e339b6058         cama_mesa_banho             448\n",
              "aca2eb7d00ea1a7b8ebd4e68314663af        moveis_decoracao             423\n",
              "422879e10f46682990de24d770e7f83d      ferramentas_jardim             351\n",
              "d1c427060a0f73f6b889a5c7c61f2ac4  informatica_acessorios             311\n",
              "389d119b48cf3043d311335e499d9c6b      ferramentas_jardim             308\n",
              "53b36df67ebb7c41585e8d54d6772e08      relogios_presentes             302\n",
              "368c6c730842d78016ad823897a372db      ferramentas_jardim             289\n",
              "53759a2ecddad2bb87a079a1f1519f73      ferramentas_jardim             285\n",
              "154e7e31ebfa092203795c972e5804a6            beleza_saude             261\n",
              "2b4609f8948be18874494203496bc318            beleza_saude             254"
            ]
          },
          "execution_count": 377,
          "metadata": {},
          "output_type": "execute_result"
        }
      ],
      "source": [
        "count = df_full.groupby(by=['product_id', 'product_category_name'], as_index=False) \\\n",
        "  .agg({'customer_id': pd.Series.nunique}) \\\n",
        "  .rename(columns={'customer_id': 'costumer_count'})\n",
        "\n",
        "buy_count = count.set_index('product_id')\n",
        "top10 = buy_count.sort_values('costumer_count', ascending = False).head(10)\n",
        "top10"
      ]
    },
    {
      "cell_type": "markdown",
      "metadata": {
        "id": "erR7-c3wK7Mo"
      },
      "source": [
        "##Criando o pipeline para a implementação da recomendação"
      ]
    },
    {
      "cell_type": "code",
      "execution_count": 378,
      "metadata": {
        "colab": {
          "base_uri": "https://localhost:8080/"
        },
        "id": "T_-GjcN5JU6n",
        "outputId": "809e3ce8-06d5-4a45-8ff8-8224c9e4ddaf"
      },
      "outputs": [
        {
          "data": {
            "text/plain": [
              "(['00066f42aeeb9f3007548bb9d3f33c38',\n",
              "  '88646c24f1972c70b1da7ab8ff378d8f',\n",
              "  '8894c64689c2a3a29e2fff744de30e46',\n",
              "  '888e11f9e6f882701220d1139c58d462',\n",
              "  '888c70e66e6ead36f2269484a6813212',\n",
              "  '887ce53cffeba9788502f60e33f1fcf3',\n",
              "  '8877966d8f081b2857a5e293d6ecf59e',\n",
              "  '8873909eb9409566f9d5a6d47c4d38c1',\n",
              "  '88703479ede641552b11881f0d2a6f6b',\n",
              "  '88596b69f04745db1f8ba135da5c708d'],\n",
              " ['99a4788cb24856965c36a24e339b6058',\n",
              "  'aca2eb7d00ea1a7b8ebd4e68314663af',\n",
              "  '422879e10f46682990de24d770e7f83d',\n",
              "  'd1c427060a0f73f6b889a5c7c61f2ac4',\n",
              "  '389d119b48cf3043d311335e499d9c6b',\n",
              "  '53b36df67ebb7c41585e8d54d6772e08',\n",
              "  '368c6c730842d78016ad823897a372db',\n",
              "  '53759a2ecddad2bb87a079a1f1519f73',\n",
              "  '154e7e31ebfa092203795c972e5804a6',\n",
              "  '2b4609f8948be18874494203496bc318'])"
            ]
          },
          "execution_count": 378,
          "metadata": {},
          "output_type": "execute_result"
        }
      ],
      "source": [
        "def start_pipeline(dataf):\n",
        "    return dataf.copy()\n",
        "\n",
        "def get_item_counts(dataf):\n",
        "  return dataf.groupby(by='product_id', as_index=False) \\\n",
        "  .agg({'customer_id': pd.Series.nunique}) \\\n",
        "  .rename(columns={'customer_id': 'costumer_count'})\\\n",
        "  .set_index('product_id')\\\n",
        "  .sort_values('costumer_count', ascending = False)\n",
        "\n",
        "def get_avg_reviews(dataf):\n",
        "  return dataf.groupby(by='product_id', as_index=False) \\\n",
        "    .agg({'review_score': np.mean}) \\\n",
        "    .rename(columns={'review_score': 'review_score_avg'}) \\\n",
        "    .set_index('product_id') \\\n",
        "    .sort_values('review_score_avg', ascending = False)\n",
        "\n",
        "def get_customer_counts(dataf):\n",
        "  return dataf.groupby(by='customer_id', as_index=False) \\\n",
        "   .agg({'product_id': pd.Series.nunique}) \\\n",
        "   .rename(columns={'product_id': 'product_count'})\\\n",
        "   .set_index('customer_id')\\\n",
        "  #.sort_values('product_count', ascending = False)\n",
        "\n",
        "def get_n_top_values(dataf, n):\n",
        "  return dataf.head(n) \\\n",
        "    .index \\\n",
        "    .tolist()\n",
        "\n",
        "top_item_reviews = df_full \\\n",
        "  .pipe(start_pipeline) \\\n",
        "  .pipe(get_avg_reviews) \\\n",
        "  .pipe(get_n_top_values, n=10000) #considerando os 10000 produtos melhores avaliados\n",
        "\n",
        "top_item_sellers = df_full \\\n",
        "  .pipe(start_pipeline) \\\n",
        "  .pipe(get_item_counts) \\\n",
        "  .pipe(get_n_top_values, n=1000)\n",
        "\n",
        "top_customer_ids= df_full \\\n",
        "  .pipe(start_pipeline) \\\n",
        "  .pipe(get_customer_counts) \\\n",
        "  .pipe(get_n_top_values, n=5000)  \n",
        "\n",
        "top_item_reviews[:10], top_item_sellers[:10]"
      ]
    },
    {
      "cell_type": "code",
      "execution_count": 379,
      "metadata": {
        "colab": {
          "base_uri": "https://localhost:8080/"
        },
        "id": "mXQoL8x8NScX",
        "outputId": "099fca7a-7bf0-4339-f1f2-fef863ab2e18"
      },
      "outputs": [
        {
          "data": {
            "text/plain": [
              "(10000, 12873)"
            ]
          },
          "execution_count": 379,
          "metadata": {},
          "output_type": "execute_result"
        }
      ],
      "source": [
        "matriz_de_relacionamento_top_item_reviews = df_full[df_full[\"product_id\"].isin(top_item_reviews)] \\\n",
        "  .pivot_table(index=\"product_id\", columns= \"customer_id\", values=\"review_score\").fillna(0)\n",
        "\n",
        "matriz_de_relacionamento_top_item_reviews.shape"
      ]
    },
    {
      "cell_type": "markdown",
      "metadata": {
        "id": "curV4l-9OPmn"
      },
      "source": [
        "matriz de similaridade"
      ]
    },
    {
      "cell_type": "code",
      "execution_count": 380,
      "metadata": {
        "colab": {
          "base_uri": "https://localhost:8080/"
        },
        "id": "eXI4zqEhOPBw",
        "outputId": "cf8bc4c3-bdcb-4e90-d36d-e8028a9fd423"
      },
      "outputs": [
        {
          "name": "stdout",
          "output_type": "stream",
          "text": [
            "[[1. 0. 0. ... 0. 0. 0.]\n",
            " [0. 1. 0. ... 0. 0. 0.]\n",
            " [0. 0. 1. ... 0. 0. 0.]\n",
            " ...\n",
            " [0. 0. 0. ... 1. 0. 0.]\n",
            " [0. 0. 0. ... 0. 1. 0.]\n",
            " [0. 0. 0. ... 0. 0. 1.]]\n"
          ]
        },
        {
          "data": {
            "text/plain": [
              "(10000, 10000)"
            ]
          },
          "execution_count": 380,
          "metadata": {},
          "output_type": "execute_result"
        }
      ],
      "source": [
        "cos_item = cosine_similarity(matriz_de_relacionamento_top_item_reviews)\n",
        "\n",
        "print(cos_item)\n",
        "cos_item.shape"
      ]
    },
    {
      "cell_type": "code",
      "execution_count": 381,
      "metadata": {
        "id": "cbA8QGu8Nl2D"
      },
      "outputs": [],
      "source": [
        "def recomendar(product_id):\n",
        "  print(f\"produto que está interessado: {product_id}\")\n",
        "  try:\n",
        "    product_idx = matriz_de_relacionamento_top_item_reviews.index.tolist().index(product_id)\n",
        "    closest_10_products = np.argsort(-cos_item[product_idx])[1:11]\n",
        "    print(f\"Retornando 10 produtos mais próximos de: {product_id}.\")\n",
        "    return matriz_de_relacionamento_top_item_reviews.index[closest_10_products].tolist()\n",
        "  except ValueError as e:\n",
        "    print(f\"{product_id}, não está incluso na matriz de recomendação. Retornando os 10 mais avaliados\")\n",
        "    return top_item_sellers"
      ]
    },
    {
      "cell_type": "code",
      "execution_count": 382,
      "metadata": {
        "colab": {
          "base_uri": "https://localhost:8080/"
        },
        "id": "p-c_43eYPI28",
        "outputId": "8b50c5fa-67fa-4872-ce29-9b10e7bb8961"
      },
      "outputs": [
        {
          "name": "stdout",
          "output_type": "stream",
          "text": [
            "produto que está interessado: fff9553ac224cec9d15d49f5a263411f\n",
            "Retornando 10 produtos mais próximos de: fff9553ac224cec9d15d49f5a263411f.\n"
          ]
        },
        {
          "data": {
            "text/plain": [
              "['c42caa5da059e67badc89b89ac1dde34',\n",
              " 'c432f90fa332fd2e5091f2ac2d226aad',\n",
              " 'c4332b2ff3cde1b0c62f5b9c8ae84bdc',\n",
              " 'c438c9c697a57d265dbb6edd8b174b2b',\n",
              " 'c4444723412f21a52a81a4c14eadc0fa',\n",
              " 'c445e66ff5aed16191fd41e4d9fcf2aa',\n",
              " 'c452ed78936fa240d56b35bc146be876',\n",
              " 'c46b2401e3ccd4e4f779b93093a97e29',\n",
              " 'c4761af5e6a2183cc23c77a8d16f9d09',\n",
              " 'c47696608d548c9999a92966e435b3f6']"
            ]
          },
          "execution_count": 382,
          "metadata": {},
          "output_type": "execute_result"
        }
      ],
      "source": [
        "id_produto_interesse = \"fff9553ac224cec9d15d49f5a263411f\"\n",
        "ids_10_mais_proximos = recomendar(id_produto_interesse)\n",
        "\n",
        "ids_10_mais_proximos"
      ]
    },
    {
      "cell_type": "markdown",
      "metadata": {
        "id": "0Cdpp_McVGS_"
      },
      "source": [
        "Os tipos de produto não foram segregados para esse sistema de recomendação"
      ]
    },
    {
      "cell_type": "code",
      "execution_count": 383,
      "metadata": {
        "colab": {
          "base_uri": "https://localhost:8080/",
          "height": 100
        },
        "id": "AERfeC2aW4Uz",
        "outputId": "a08defd4-8f2d-40d8-e2db-82fa866f8aee"
      },
      "outputs": [
        {
          "data": {
            "text/html": [
              "<div>\n",
              "<style scoped>\n",
              "    .dataframe tbody tr th:only-of-type {\n",
              "        vertical-align: middle;\n",
              "    }\n",
              "\n",
              "    .dataframe tbody tr th {\n",
              "        vertical-align: top;\n",
              "    }\n",
              "\n",
              "    .dataframe thead th {\n",
              "        text-align: right;\n",
              "    }\n",
              "</style>\n",
              "<table border=\"1\" class=\"dataframe\">\n",
              "  <thead>\n",
              "    <tr style=\"text-align: right;\">\n",
              "      <th></th>\n",
              "      <th>order_id</th>\n",
              "      <th>order_item_id</th>\n",
              "      <th>product_id</th>\n",
              "      <th>price</th>\n",
              "      <th>review_id</th>\n",
              "      <th>review_score</th>\n",
              "      <th>customer_id</th>\n",
              "      <th>order_status</th>\n",
              "      <th>product_category_name</th>\n",
              "      <th>product_name_lenght</th>\n",
              "      <th>product_description_lenght</th>\n",
              "      <th>product_weight_g</th>\n",
              "      <th>product_length_cm</th>\n",
              "      <th>product_height_cm</th>\n",
              "      <th>product_width_cm</th>\n",
              "    </tr>\n",
              "  </thead>\n",
              "  <tbody>\n",
              "    <tr>\n",
              "      <th>109435</th>\n",
              "      <td>df3a7600e4fd0a2c595fa7ad6e2e622e</td>\n",
              "      <td>1</td>\n",
              "      <td>fff9553ac224cec9d15d49f5a263411f</td>\n",
              "      <td>32.000</td>\n",
              "      <td>9300fb7ce2abcc8de667b81eebd6738d</td>\n",
              "      <td>5</td>\n",
              "      <td>8b82938b643c15649685382d619f2db6</td>\n",
              "      <td>delivered</td>\n",
              "      <td>fashion_bolsas_e_acessorios</td>\n",
              "      <td>22.000</td>\n",
              "      <td>328.000</td>\n",
              "      <td>150.000</td>\n",
              "      <td>16.000</td>\n",
              "      <td>13.000</td>\n",
              "      <td>11.000</td>\n",
              "    </tr>\n",
              "  </tbody>\n",
              "</table>\n",
              "</div>"
            ],
            "text/plain": [
              "                                order_id  ...  product_width_cm\n",
              "109435  df3a7600e4fd0a2c595fa7ad6e2e622e  ...            11.000\n",
              "\n",
              "[1 rows x 15 columns]"
            ]
          },
          "execution_count": 383,
          "metadata": {},
          "output_type": "execute_result"
        }
      ],
      "source": [
        "df_full[df_full['product_id']=='fff9553ac224cec9d15d49f5a263411f']"
      ]
    },
    {
      "cell_type": "code",
      "execution_count": 384,
      "metadata": {
        "colab": {
          "base_uri": "https://localhost:8080/",
          "height": 100
        },
        "id": "VW5mz9rAXGW1",
        "outputId": "1d87b77b-cb3f-4c2c-8efa-a2d4feb93ccc"
      },
      "outputs": [
        {
          "data": {
            "text/html": [
              "<div>\n",
              "<style scoped>\n",
              "    .dataframe tbody tr th:only-of-type {\n",
              "        vertical-align: middle;\n",
              "    }\n",
              "\n",
              "    .dataframe tbody tr th {\n",
              "        vertical-align: top;\n",
              "    }\n",
              "\n",
              "    .dataframe thead th {\n",
              "        text-align: right;\n",
              "    }\n",
              "</style>\n",
              "<table border=\"1\" class=\"dataframe\">\n",
              "  <thead>\n",
              "    <tr style=\"text-align: right;\">\n",
              "      <th></th>\n",
              "      <th>order_id</th>\n",
              "      <th>order_item_id</th>\n",
              "      <th>product_id</th>\n",
              "      <th>price</th>\n",
              "      <th>review_id</th>\n",
              "      <th>review_score</th>\n",
              "      <th>customer_id</th>\n",
              "      <th>order_status</th>\n",
              "      <th>product_category_name</th>\n",
              "      <th>product_name_lenght</th>\n",
              "      <th>product_description_lenght</th>\n",
              "      <th>product_weight_g</th>\n",
              "      <th>product_length_cm</th>\n",
              "      <th>product_height_cm</th>\n",
              "      <th>product_width_cm</th>\n",
              "    </tr>\n",
              "  </thead>\n",
              "  <tbody>\n",
              "    <tr>\n",
              "      <th>108563</th>\n",
              "      <td>d66a9e689fb184277bdd64317e765729</td>\n",
              "      <td>1</td>\n",
              "      <td>c42caa5da059e67badc89b89ac1dde34</td>\n",
              "      <td>30.900</td>\n",
              "      <td>c5814f3075ba69230c67f88067a00c32</td>\n",
              "      <td>5</td>\n",
              "      <td>d1f6368fe05ab3acfcde55677367ec28</td>\n",
              "      <td>delivered</td>\n",
              "      <td>esporte_lazer</td>\n",
              "      <td>59.000</td>\n",
              "      <td>708.000</td>\n",
              "      <td>200.000</td>\n",
              "      <td>16.000</td>\n",
              "      <td>5.000</td>\n",
              "      <td>11.000</td>\n",
              "    </tr>\n",
              "  </tbody>\n",
              "</table>\n",
              "</div>"
            ],
            "text/plain": [
              "                                order_id  ...  product_width_cm\n",
              "108563  d66a9e689fb184277bdd64317e765729  ...            11.000\n",
              "\n",
              "[1 rows x 15 columns]"
            ]
          },
          "execution_count": 384,
          "metadata": {},
          "output_type": "execute_result"
        }
      ],
      "source": [
        "df_full[df_full['product_id']=='c42caa5da059e67badc89b89ac1dde34']"
      ]
    },
    {
      "cell_type": "markdown",
      "metadata": {
        "id": "gF8RLREOVKeC"
      },
      "source": [
        "# Client based"
      ]
    },
    {
      "cell_type": "code",
      "execution_count": 385,
      "metadata": {
        "id": "Y5CJKstSVt1h"
      },
      "outputs": [],
      "source": [
        "def transform_sample(dataf):\n",
        "  return pd.DataFrame({\n",
        "      \"customer\": dataf[\"customer_id\"],\n",
        "      \"product\": dataf[\"product_id\"],\n",
        "      \"action\": dataf[\"review_score\"]\n",
        "  })\n",
        "\n",
        "matriz_de_relacionamento_customer_sampled = df_full[df_full['customer_id'].isin(top_customer_ids)] \\\n",
        "  .pipe(transform_sample) \\\n",
        "  .pivot_table(index=\"customer\", columns=\"product\", values=\"action\").fillna(0)"
      ]
    },
    {
      "cell_type": "code",
      "execution_count": 386,
      "metadata": {
        "colab": {
          "base_uri": "https://localhost:8080/"
        },
        "id": "Adq7njUYgMFz",
        "outputId": "4588beea-66e2-4f63-8795-b19dce578796"
      },
      "outputs": [
        {
          "data": {
            "text/plain": [
              "(5000, 3898)"
            ]
          },
          "execution_count": 386,
          "metadata": {},
          "output_type": "execute_result"
        }
      ],
      "source": [
        "matriz_de_relacionamento_customer_sampled.shape"
      ]
    },
    {
      "cell_type": "code",
      "execution_count": 387,
      "metadata": {
        "colab": {
          "base_uri": "https://localhost:8080/"
        },
        "id": "SrqYBKgegPfy",
        "outputId": "d944cd66-9c82-4155-9fc5-e4261d29bc98"
      },
      "outputs": [
        {
          "name": "stdout",
          "output_type": "stream",
          "text": [
            "[[1. 0. 0. ... 0. 0. 0.]\n",
            " [0. 1. 0. ... 0. 0. 0.]\n",
            " [0. 0. 1. ... 0. 0. 0.]\n",
            " ...\n",
            " [0. 0. 0. ... 1. 0. 0.]\n",
            " [0. 0. 0. ... 0. 1. 0.]\n",
            " [0. 0. 0. ... 0. 0. 1.]]\n"
          ]
        }
      ],
      "source": [
        "cos_customer = cosine_similarity(matriz_de_relacionamento_customer_sampled)\n",
        "print(cos_customer)"
      ]
    },
    {
      "cell_type": "code",
      "execution_count": 388,
      "metadata": {
        "colab": {
          "base_uri": "https://localhost:8080/"
        },
        "id": "XkFHkWXrgvLX",
        "outputId": "70275bb4-9c9a-4be5-e2b9-f4dae447b26d"
      },
      "outputs": [
        {
          "data": {
            "text/plain": [
              "(5000, 5000)"
            ]
          },
          "execution_count": 388,
          "metadata": {},
          "output_type": "execute_result"
        }
      ],
      "source": [
        "cos_customer.shape"
      ]
    },
    {
      "cell_type": "code",
      "execution_count": 389,
      "metadata": {
        "id": "px-bghwGgx3-"
      },
      "outputs": [],
      "source": [
        "def recomendar_customer(customer_id):\n",
        "  print(f\"Cliente de interesse: {customer_id}\")\n",
        "  try:\n",
        "    customer_idx = matriz_de_relacionamento_customer_sampled.index.tolist().index(customer_id)\n",
        "    closest_10_customers = np.argsort(-cos_customer[customer_idx])[1:11]\n",
        "    print(f\"Retornando 10 clientes mais próximos do cliente: {customer_id}.\")\n",
        "    return matriz_de_relacionamento_customer_sampled.index[closest_10_customers].tolist()\n",
        "  except ValueError as e:\n",
        "    print(f\"{customer_id}, não está incluso na matriz de recomendação\")"
      ]
    },
    {
      "cell_type": "code",
      "execution_count": 390,
      "metadata": {
        "colab": {
          "base_uri": "https://localhost:8080/"
        },
        "id": "1msnFseAh2Gw",
        "outputId": "6e475c1e-8283-40e8-fac6-33a858da1c7c"
      },
      "outputs": [
        {
          "name": "stdout",
          "output_type": "stream",
          "text": [
            "Cliente de interesse: 00012a2ce6f8dcda20d059ce98491703\n",
            "Retornando 10 clientes mais próximos do cliente: 00012a2ce6f8dcda20d059ce98491703.\n"
          ]
        },
        {
          "data": {
            "text/plain": [
              "['08fee29b9ac63d1bf53d160c88714bb1',\n",
              " '08fe63b02e7e846c85b8a49b9fd540d9',\n",
              " '08fd1f647fb132970cc8e3ee6c9075d9',\n",
              " '08fc5058d39f827b41d726cac116dfbc',\n",
              " '08fc431ce96ad22194b0a00be7100917',\n",
              " '08fbfcc1b6c48f73ddca8312c78f6f53',\n",
              " '08fb48675dd414001931daa99d6e2ea2',\n",
              " '08fabe21a36ebb71c55616524790909b',\n",
              " '08faaa96437305ceef6b95a46cfd0030',\n",
              " '08fa82297b802757b9b02ced94f8a9e3']"
            ]
          },
          "execution_count": 390,
          "metadata": {},
          "output_type": "execute_result"
        }
      ],
      "source": [
        "id_customer_interesse = '00012a2ce6f8dcda20d059ce98491703'\n",
        "ids_10_mais_proximos = recomendar_customer(id_customer_interesse)\n",
        "\n",
        "ids_10_mais_proximos"
      ]
    },
    {
      "cell_type": "code",
      "execution_count": 391,
      "metadata": {
        "colab": {
          "base_uri": "https://localhost:8080/",
          "height": 100
        },
        "id": "6VeacsTfsm7x",
        "outputId": "76244f87-0a5d-4fa2-90c2-5c184f632c67"
      },
      "outputs": [
        {
          "data": {
            "text/html": [
              "<div>\n",
              "<style scoped>\n",
              "    .dataframe tbody tr th:only-of-type {\n",
              "        vertical-align: middle;\n",
              "    }\n",
              "\n",
              "    .dataframe tbody tr th {\n",
              "        vertical-align: top;\n",
              "    }\n",
              "\n",
              "    .dataframe thead th {\n",
              "        text-align: right;\n",
              "    }\n",
              "</style>\n",
              "<table border=\"1\" class=\"dataframe\">\n",
              "  <thead>\n",
              "    <tr style=\"text-align: right;\">\n",
              "      <th></th>\n",
              "      <th>order_id</th>\n",
              "      <th>order_item_id</th>\n",
              "      <th>product_id</th>\n",
              "      <th>price</th>\n",
              "      <th>review_id</th>\n",
              "      <th>review_score</th>\n",
              "      <th>customer_id</th>\n",
              "      <th>order_status</th>\n",
              "      <th>product_category_name</th>\n",
              "      <th>product_name_lenght</th>\n",
              "      <th>product_description_lenght</th>\n",
              "      <th>product_weight_g</th>\n",
              "      <th>product_length_cm</th>\n",
              "      <th>product_height_cm</th>\n",
              "      <th>product_width_cm</th>\n",
              "    </tr>\n",
              "  </thead>\n",
              "  <tbody>\n",
              "    <tr>\n",
              "      <th>41504</th>\n",
              "      <td>5f79b5b0931d63f1a42989eb65b9da6e</td>\n",
              "      <td>1</td>\n",
              "      <td>64315bd8c0c47303179dd2e25b579d00</td>\n",
              "      <td>89.800</td>\n",
              "      <td>65645c124061b43b2edc38b05ee76aab</td>\n",
              "      <td>1</td>\n",
              "      <td>00012a2ce6f8dcda20d059ce98491703</td>\n",
              "      <td>delivered</td>\n",
              "      <td>brinquedos</td>\n",
              "      <td>55.000</td>\n",
              "      <td>889.000</td>\n",
              "      <td>4267.000</td>\n",
              "      <td>46.000</td>\n",
              "      <td>39.000</td>\n",
              "      <td>22.000</td>\n",
              "    </tr>\n",
              "  </tbody>\n",
              "</table>\n",
              "</div>"
            ],
            "text/plain": [
              "                               order_id  ...  product_width_cm\n",
              "41504  5f79b5b0931d63f1a42989eb65b9da6e  ...            22.000\n",
              "\n",
              "[1 rows x 15 columns]"
            ]
          },
          "execution_count": 391,
          "metadata": {},
          "output_type": "execute_result"
        }
      ],
      "source": [
        "df_full[df_full['customer_id']=='00012a2ce6f8dcda20d059ce98491703']"
      ]
    },
    {
      "cell_type": "code",
      "execution_count": 392,
      "metadata": {
        "colab": {
          "base_uri": "https://localhost:8080/",
          "height": 100
        },
        "id": "DTuuoAHVsvZJ",
        "outputId": "56b29ad1-8d72-4e49-d707-7079f94be940"
      },
      "outputs": [
        {
          "data": {
            "text/html": [
              "<div>\n",
              "<style scoped>\n",
              "    .dataframe tbody tr th:only-of-type {\n",
              "        vertical-align: middle;\n",
              "    }\n",
              "\n",
              "    .dataframe tbody tr th {\n",
              "        vertical-align: top;\n",
              "    }\n",
              "\n",
              "    .dataframe thead th {\n",
              "        text-align: right;\n",
              "    }\n",
              "</style>\n",
              "<table border=\"1\" class=\"dataframe\">\n",
              "  <thead>\n",
              "    <tr style=\"text-align: right;\">\n",
              "      <th></th>\n",
              "      <th>order_id</th>\n",
              "      <th>order_item_id</th>\n",
              "      <th>product_id</th>\n",
              "      <th>price</th>\n",
              "      <th>review_id</th>\n",
              "      <th>review_score</th>\n",
              "      <th>customer_id</th>\n",
              "      <th>order_status</th>\n",
              "      <th>product_category_name</th>\n",
              "      <th>product_name_lenght</th>\n",
              "      <th>product_description_lenght</th>\n",
              "      <th>product_weight_g</th>\n",
              "      <th>product_length_cm</th>\n",
              "      <th>product_height_cm</th>\n",
              "      <th>product_width_cm</th>\n",
              "    </tr>\n",
              "  </thead>\n",
              "  <tbody>\n",
              "    <tr>\n",
              "      <th>17775</th>\n",
              "      <td>12767fe9ec8d9dcab0b972043cffb8d3</td>\n",
              "      <td>1</td>\n",
              "      <td>2155593e689475e40e4c8b93143c0287</td>\n",
              "      <td>34.900</td>\n",
              "      <td>9f257a588a9b0631dd7f2a8513a79de8</td>\n",
              "      <td>2</td>\n",
              "      <td>08fee29b9ac63d1bf53d160c88714bb1</td>\n",
              "      <td>delivered</td>\n",
              "      <td>brinquedos</td>\n",
              "      <td>55.000</td>\n",
              "      <td>418.000</td>\n",
              "      <td>712.000</td>\n",
              "      <td>47.000</td>\n",
              "      <td>13.000</td>\n",
              "      <td>32.000</td>\n",
              "    </tr>\n",
              "  </tbody>\n",
              "</table>\n",
              "</div>"
            ],
            "text/plain": [
              "                               order_id  ...  product_width_cm\n",
              "17775  12767fe9ec8d9dcab0b972043cffb8d3  ...            32.000\n",
              "\n",
              "[1 rows x 15 columns]"
            ]
          },
          "execution_count": 392,
          "metadata": {},
          "output_type": "execute_result"
        }
      ],
      "source": [
        "df_full[df_full['customer_id']=='08fee29b9ac63d1bf53d160c88714bb1']"
      ]
    }
  ],
  "metadata": {
    "colab": {
      "name": "Sistema de recomendação - Razzle Dazzle.ipynb",
      "provenance": []
    },
    "kernelspec": {
      "display_name": "Python 3",
      "name": "python3"
    },
    "language_info": {
      "name": "python"
    }
  },
  "nbformat": 4,
  "nbformat_minor": 0
}
